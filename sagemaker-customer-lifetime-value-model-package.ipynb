{
 "cells": [
  {
   "cell_type": "markdown",
   "metadata": {},
   "source": [
    "## Set up the environment"
   ]
  },
  {
   "cell_type": "code",
   "execution_count": null,
   "metadata": {},
   "outputs": [],
   "source": [
    "import sagemaker as sage\n",
    "from sagemaker import get_execution_role\n",
    "\n",
    "role = get_execution_role()\n",
    "sagemaker_session = sage.Session()\n"
   ]
  },
  {
   "cell_type": "code",
   "execution_count": null,
   "metadata": {},
   "outputs": [],
   "source": [
    "# Setup variables\n",
    "model_package_arn='<REPLACE WITH MODEL PACKAGE ARN>'\n",
    "model_name='customer-lifetime-value'\n",
    "s3_bucket = '<REPLACE WITH S3 BUCKET NAME>'\n",
    "sample_file = 'sample.zip'\n",
    "\n",
    "# Derive S3 paths\n",
    "s3_input_file_key = 'input/{sample_file}'.format(sample_file=sample_file)\n",
    "s3_input_dir = 's3://{s3_bucket}/input/'.format(s3_bucket=s3_bucket)\n",
    "s3_output_dir = 's3://{s3_bucket}/output/'.format(s3_bucket=s3_bucket)\n",
    "s3_output_path = 's3://{s3_bucket}/output/{sample_file}.out'.format(s3_bucket=s3_bucket, sample_file=sample_file)\n",
    "\n",
    "print(\"Model package ARN: \", model_package_arn)\n",
    "print(\"Model name: \", model_name)\n",
    "\n",
    "print(\"Input file: s3://{s3_bucket}/{s3_input_file_key}\".format(s3_bucket=s3_bucket, s3_input_file_key=s3_input_file_key))\n",
    "print(\"Input dir: \", s3_input_dir)\n",
    "print(\"Output dir: \", s3_output_dir)\n",
    "print(\"Output path: \", s3_output_path)"
   ]
  },
  {
   "cell_type": "markdown",
   "metadata": {},
   "source": [
    "## Realtime Inference"
   ]
  },
  {
   "cell_type": "code",
   "execution_count": null,
   "metadata": {},
   "outputs": [],
   "source": [
    "from sagemaker import ModelPackage\n",
    "\n",
    "model = ModelPackage(name=model_name,\n",
    "                     role=role,\n",
    "                     model_package_arn=model_package_arn,\n",
    "                     sagemaker_session=sagemaker_session)"
   ]
  },
  {
   "cell_type": "code",
   "execution_count": null,
   "metadata": {},
   "outputs": [],
   "source": [
    "endpoint_name = model_name"
   ]
  },
  {
   "cell_type": "code",
   "execution_count": null,
   "metadata": {},
   "outputs": [],
   "source": [
    "predictor = model.deploy(1, 'ml.m5.large', endpoint_name=endpoint_name)"
   ]
  },
  {
   "cell_type": "code",
   "execution_count": null,
   "metadata": {},
   "outputs": [],
   "source": [
    "# connect to the endpoint\n",
    "predictor = sage.predictor.RealTimePredictor(\n",
    "    endpoint_name,\n",
    "    sagemaker_session=sagemaker_session\n",
    ")"
   ]
  },
  {
   "cell_type": "code",
   "execution_count": null,
   "metadata": {},
   "outputs": [],
   "source": [
    "# open s3 file\n",
    "import io\n",
    "import boto3\n",
    "import json\n",
    "\n",
    "s3_client = boto3.client('s3')\n",
    "s3_response_object = s3_client.get_object(Bucket=s3_bucket, Key=s3_input_file_key)\n",
    "object_content = s3_response_object['Body'].read()\n",
    "\n",
    "res = predictor.predict(object_content)\n",
    "\n",
    "response = json.loads(res)\n",
    "\n",
    "print(response)"
   ]
  },
  {
   "cell_type": "code",
   "execution_count": null,
   "metadata": {},
   "outputs": [],
   "source": [
    "# Delete endpoint\n",
    "predictor.delete_endpoint()"
   ]
  },
  {
   "cell_type": "markdown",
   "metadata": {},
   "source": [
    "## Batch Transform Job"
   ]
  },
  {
   "cell_type": "code",
   "execution_count": null,
   "metadata": {},
   "outputs": [],
   "source": [
    "\n",
    "transformer = sage.transformer.Transformer(\n",
    "    base_transform_job_name='{model_name}-batch-transform'.format(model_name=model_name),\n",
    "    model_name=model_name,\n",
    "    instance_count=1,\n",
    "    instance_type='ml.m5.large',\n",
    "    output_path=s3_output_dir,\n",
    "    sagemaker_session=sagemaker_session\n",
    ")"
   ]
  },
  {
   "cell_type": "code",
   "execution_count": null,
   "metadata": {},
   "outputs": [],
   "source": [
    "transformer.transform(s3_input_dir)\n",
    "\n",
    "# wait until prediction job is completed\n",
    "transformer.wait()\n"
   ]
  },
  {
   "cell_type": "markdown",
   "metadata": {},
   "source": [
    "#### Inspect the Batch Transform Output in S3"
   ]
  },
  {
   "cell_type": "code",
   "execution_count": null,
   "metadata": {},
   "outputs": [],
   "source": [
    "s3_client = sage.s3.S3Downloader\n",
    "s3_client.read_file(s3_output_path)"
   ]
  }
 ],
 "metadata": {
  "celltoolbar": "Raw Cell Format",
  "kernelspec": {
   "display_name": "conda_python3",
   "language": "python",
   "name": "conda_python3"
  },
  "language_info": {
   "codemirror_mode": {
    "name": "ipython",
    "version": 3
   },
   "file_extension": ".py",
   "mimetype": "text/x-python",
   "name": "python",
   "nbconvert_exporter": "python",
   "pygments_lexer": "ipython3",
   "version": "3.6.10"
  }
 },
 "nbformat": 4,
 "nbformat_minor": 2
}